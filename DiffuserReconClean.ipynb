{
 "cells": [
  {
   "cell_type": "code",
   "execution_count": 2,
   "metadata": {},
   "outputs": [],
   "source": [
    "%matplotlib inline\n",
    "\n",
    "import numpy as np\n",
    "import scipy.io as io\n",
    "import scipy.misc\n",
    "import matplotlib.pyplot as plt\n",
    "from numpy.fft import fft2, ifft2, fftshift, ifftshift\n",
    "from PIL import Image\n",
    "import math\n",
    "from ipywidgets import interact, widgets\n",
    "import cv2\n",
    "from DiffuserCamUtils import *\n",
    "import sys, os"
   ]
  },
  {
   "cell_type": "markdown",
   "metadata": {},
   "source": [
    "Helper Functions"
   ]
  },
  {
   "cell_type": "code",
   "execution_count": 3,
   "metadata": {},
   "outputs": [],
   "source": [
    "####        INITIALIZE        #####\n",
    "def initialize(image_file, psf_file, f_lat = 1, f_ax = 1, type = 'pco', color = 'rgb', dim = '2d', ind = 0):\n",
    "    try:\n",
    "        im_type = image_file[-3:]\n",
    "        psf_type = psf_file[-3:]\n",
    "        #image = np.array(np.load(image_file))\n",
    "        #psf = np.array(np.load(psf_file))\n",
    "        #image = np.array(Image.open(image_file))[:,:,ind].astype('float32')\n",
    "\n",
    "        image = np.array(cv2.imread(image_file,-1))[:,:,ind].astype('float32')\n",
    "        \n",
    "        psf = io.loadmat(psf_file)['psf'] if psf_type == 'mat' else rgb2gray(np.array(cv2.imread(psf_file,-1)).astype('float32'))\n",
    "    except IOError as ex:\n",
    "        print(\"I/O error: \" + str(ex.strerror))\n",
    "    if dim == '2d':         #embed into a 3d array\n",
    "        psf = np.expand_dims(psf, 2)\n",
    "    psf_bg = np.mean(psf[0 : 15, 0 : 15]) #102\n",
    "    image_bg = np.mean(image[0 : 15, 0 : 15])         #should be around 100\n",
    "\n",
    "    psf_down = downsample_ax(psf - psf_bg, f_lat)\n",
    "    image = downsample_ax(image-bg_val, f_lat)\n",
    "\n",
    "    if dim == '3d':\n",
    "        psf_down = downsample_lat(psf_down, f_ax)\n",
    "\n",
    "    image /= np.max(image)\n",
    "    psf_down /= norm(psf_down)\n",
    "\n",
    "    return psf_down, image\n",
    "\n",
    "\n",
    "####        FFT         #####\n",
    "def fft2c(x):\n",
    "    return 1 / np.sqrt(np.prod(x.shape)) * np.fft.fftshift(np.fft.fft2(np.fft.ifftshift(x)))\n",
    "\n",
    "\n",
    "def ifft2c(y):\n",
    "    return np.sqrt(np.prod(y.shape)) * np.fft.ifftshift(np.fft.ifft2(np.fft.fftshift(y)))\n",
    "\n",
    "\n",
    "### RGB to GRAY  ###\n",
    "def rgb2gray(rgb):\n",
    "    return np.dot(rgb[...,:3], [0.299, 0.587, 0.114])\n",
    "\n",
    "\n",
    "####        GRADIENT and ERROR        #####\n",
    "grad_func = lambda x : grad(x, A, AH, b)\n",
    "error = lambda x : objective(x, A, b, opt.tau)\n",
    "\n",
    "####        Transform Groundtruth     ######\n",
    "def transform_groundtruth(gt_image, M, ds, mtx, dist):\n",
    "    gt_out = cv2.undistort(gt_image, mtx, dist)\n",
    "    gt_out = np.flipud(downsample_ax(gt_out, ds))\n",
    "    gt_out = cv2.warpAffine(gt_out, M, (gt_out.shape[1], gt_out.shape[0]))\n",
    "    \n",
    "    return gt_out"
   ]
  },
  {
   "cell_type": "markdown",
   "metadata": {},
   "source": [
    "File Paths and Parameters"
   ]
  },
  {
   "cell_type": "code",
   "execution_count": 4,
   "metadata": {},
   "outputs": [],
   "source": [
    "####    BACKGROUND IMAGE    #####\n",
    "\n",
    "#bg_file = 'D:\\Kristina\\mirflickr25k\\diffuser_background.tiff';\n",
    "bg_file = 'V:/Yurtsever/diffuser_recon/tests/diffuser_background.tiff';\n",
    "bg_image = np.array(cv2.imread(bg_file,-1)).astype('float32')\n",
    "\n",
    "\n",
    "#####   Diffuser Image     #####\n",
    "\n",
    "# image_file =  'V:/Kristina/DiffuserLearningData/12_3_2018/data/cal_diffuser2.tiff'\n",
    "#image_file =  'D:/Kristina/2_8_2019/frogside_diffuser.tiff'\n",
    "image_file = 'D:/Kristina/mirflickr25k/diffuser_images_2_14_auto/im333.jpg.tiff'\n",
    "im_path = 'D:/Kristina/mirflickr25k/diffuser_images_2_14_auto/'\n",
    "\n",
    "\n",
    "#####    GT IMAGE     #####\n",
    "gt_file = 'D:/Kristina/mirflickr25k/gt_images_2_14_auto/im333.jpg.tiff'\n",
    "gt_path = 'D:/Kristina/mirflickr25k/gt_images_2_14_auto/'\n",
    "gt_image  = cv2.imread(gt_file,-1).astype('float32')\n",
    "\n",
    "\n",
    "\n",
    "#####   SAVE FILE    #####\n",
    "save_file_diffuser = 'V:/Yurtsever/diffuser_recon/mirflickr25k_recon/recon/im333.tiff'\n",
    "save_file_gt = 'V:/Yurtsever/diffuser_recon/mirflickr25k_recon/gt/im333.tiff'\n",
    "save_file_path = 'V:/Yurtsever/diffuser_recon/mirflickr25k_recon/'\n",
    "\n",
    "\n",
    "####       PSF       ####\n",
    "psf_file = 'V:/Kristina/DiffuserLearningData/12_3_2018/data/psf_white_LED_Nick.tiff'\n",
    "#psf_file = 'D:/Kristina/2_8_2019/greenpsf.bmp'\n",
    "\n",
    "\n",
    "\n",
    "\n",
    "\n",
    "#####        PARAMETERS         #####\n",
    "dimensions = '2d'\n",
    "\n",
    "bg_val = np.mean(bg_image)\n",
    "psf, b = initialize(image_file, psf_file, dim = dimensions, f_lat = 4, ind = 0)\n",
    "r = 0    #proportion of pixels to crop out\n",
    "num_cropped = int(r * b.size)\n",
    "crop2d, crop3d, pad2d, pad3d, pix_crop = get_crop_pad(psf, N = num_cropped)\n",
    "h = pad2d(psf)    #pad the input stack of h's\n",
    "\n",
    "obj_shape = h.shape\n",
    "up_shape = psf.shape\n",
    "A, AH = get_ops(h, crop2d, pad2d, crop3d, pad3d, up_shape)\n",
    "\n",
    "\n",
    "\n",
    "alg = 'admm'\n",
    "max_itr = 100\n",
    "opt = Options(dimensions, alg, max_itr)\n",
    "#opt.gamma = np.real(1.8 / np.max(Hstar * H))\n",
    "opt.gamma = 1\n",
    "#opt.eps = 7.4e-3        #7.4e-3 for nesterov, 4e-3 for fista\n",
    "opt.del_pixels = True\n",
    "opt.psf = h\n",
    "opt.b = b\n",
    "opt.crop2d, opt.pad2d = crop2d, pad2d\n",
    "opt.crop3d, opt.pad3d = crop3d, pad3d\n",
    "opt.up_shape, opt.pad_shape = up_shape, obj_shape\n",
    "opt.autotune = True\n",
    "opt.beta = 1.1\n",
    "opt.alpha = 1.01\n",
    "\n",
    "# tune regularization parameters.\n",
    "# 2d tuning: default to 1e-4 on each, tau = 2e-3\n",
    "# cartoony: 1e-3, 5e-2, 1e-3, 2e-5\n",
    "# to actually see cost function going down, use tau = 1, other mu's = 1e-4\n",
    "opt.mu1 = 1e-4\n",
    "opt.mu2 = 1e-4\n",
    "opt.mu3 = 1e-4\n",
    "opt.tau = 2e-3\n",
    "\n",
    "\n",
    "\n",
    "### H and XHAT ###\n",
    "H = fft2c(psf[:, :, 0])\n",
    "Xhat = ifft2c(fft2c(b)/H)\n",
    "\n",
    "\n",
    "\n",
    "####  CALIBRATION #####\n",
    "calibration_2_15 = io.loadmat('calibration_2mv _15_v2.mat')\n",
    "\n",
    "M = calibration_2_15['M']\n",
    "mtx = calibration_2_15['mtx']\n",
    "dist = calibration_2_15['dist']\n",
    "ds = calibration_2_15['ds']"
   ]
  },
  {
   "cell_type": "markdown",
   "metadata": {},
   "source": [
    "RGB Solver "
   ]
  },
  {
   "cell_type": "code",
   "execution_count": 6,
   "metadata": {},
   "outputs": [],
   "source": [
    "# Disable print\n",
    "def blockPrint():\n",
    "    sys.stdout = open(os.devnull, 'w')\n",
    "\n",
    "# Restore print\n",
    "def enablePrint():\n",
    "    sys.stdout = sys.__stdout__\n",
    "\n",
    "####  RECONSTRUCTS 'IMAGE_FILE' PATH AND SAVES TO 'SAVE_FILE' PATH ###\n",
    "def reconstruct_and_save(image_file, gt_file, save_file_diffuser, save_file_crop_diffuser, save_file_gt, max_itr):\n",
    "    x_rgb = np.zeros((h.shape[0], h.shape[1], 3))\n",
    "    opt.max_itr = max_itr\n",
    "\n",
    "    for i in range(0,3):\n",
    "\n",
    "        #psf, b = initialize(image_file, psf_file, dim = dimensions, f_lat = 1, ind = i)\n",
    "        psf, b = initialize(image_file, psf_file, dim = dimensions, f_lat = 4, ind=i)\n",
    "\n",
    "        opt.b = b\n",
    "\n",
    "        grad_func = lambda x : grad(x, A, AH, b)\n",
    "        error = lambda x : objective(x, A, b, opt.tau)\n",
    "\n",
    "        x, error_list = solver(grad_func, error, non_negative, opt)\n",
    "        #x = crop2d(x)\n",
    "        x_rgb[:,:,i]=x[:,:,0]\n",
    "    \n",
    "    scipy.misc.imsave(save_file_diffuser, np.flipud(x_rgb))\n",
    "    scipy.misc.imsave(save_file_crop_diffuser, crop2d(np.flipud(x_rgb)))\n",
    "    \n",
    "    gt_image  = cv2.imread(gt_file,-1).astype('float32')\n",
    "    gt_out = transform_groundtruth(gt_image, M, ds, mtx, dist)\n",
    "    scipy.misc.imsave(save_file_gt, np.flipud(gt_out))\n",
    "    return x_rgb\n",
    "\n",
    "#####  ITERATES THROUGH \n",
    "def run_recon_and_crop(num_photos, max_itr, im_path, gt_path, save_path, start=1):\n",
    "    for i in range(start, start + num_photos):\n",
    "        enablePrint()\n",
    "        print('photo ', i, ' of ', num_photos + start, '\\n\\n', end=\"\\r\")\n",
    "        blockPrint()\n",
    "        im_file = im_path + 'im' + str(i) + '.jpg.tiff'\n",
    "        gt_file = gt_path + 'im' + str(i) + '.jpg.tiff'\n",
    "        save_file_diffuser = save_path + 'recon/im' + str(i) + '.tiff'\n",
    "        crp_path = save_path + 'recon_cropped/im' + str(i) + '.tiff'\n",
    "        save_file_gt = save_path + 'gt/im' + str(i) + '.tiff'\n",
    "        reconstruct_and_save(im_file, gt_file, save_file_diffuser, crp_path, save_file_gt, max_itr)\n",
    "        \n",
    "def run_recon_and_crop_gt(num_photos, gt_path, save_path, start=1):\n",
    "    for i in range(start, start + num_photos):\n",
    "        enablePrint()\n",
    "        print('photo ', i, ' of ', num_photos + start, '\\n\\n', end=\"\\r\")\n",
    "        blockPrint()\n",
    "        gt_file = gt_path + 'im' + str(i) + '.jpg.tiff'\n",
    "        save_file_gt = save_path + 'gt/im' + str(i) + '.tiff'\n",
    "        transform_and_save_gt(gt_file, save_file_gt)\n",
    "    \n",
    "    \n",
    "def transform_and_save_gt(gt_file, save_file_gt):\n",
    "    gt_image  = cv2.imread(gt_file,-1).astype('float32')\n",
    "    gt_out = transform_groundtruth(gt_image, M, ds, mtx, dist)\n",
    "    scipy.misc.imsave(save_file_gt, np.flipud(gt_out))"
   ]
  },
  {
   "cell_type": "code",
   "execution_count": 8,
   "metadata": {},
   "outputs": [
    {
     "name": "stderr",
     "output_type": "stream",
     "text": [
      "C:\\Users\\kristina\\Anaconda3\\lib\\site-packages\\ipykernel_launcher.py:62: DeprecationWarning: `imsave` is deprecated!\n",
      "`imsave` is deprecated in SciPy 1.0.0, and will be removed in 1.2.0.\n",
      "Use ``imageio.imwrite`` instead.\n"
     ]
    }
   ],
   "source": [
    "run_recon_and_crop_gt(17000, gt_path, save_file_path, start=8000)"
   ]
  },
  {
   "cell_type": "code",
   "execution_count": null,
   "metadata": {
    "scrolled": true
   },
   "outputs": [
    {
     "name": "stderr",
     "output_type": "stream",
     "text": [
      "C:\\Users\\kristina\\Anaconda3\\lib\\site-packages\\ipykernel_launcher.py:28: DeprecationWarning: `imsave` is deprecated!\n",
      "`imsave` is deprecated in SciPy 1.0.0, and will be removed in 1.2.0.\n",
      "Use ``imageio.imwrite`` instead.\n",
      "C:\\Users\\kristina\\Anaconda3\\lib\\site-packages\\ipykernel_launcher.py:29: DeprecationWarning: `imsave` is deprecated!\n",
      "`imsave` is deprecated in SciPy 1.0.0, and will be removed in 1.2.0.\n",
      "Use ``imageio.imwrite`` instead.\n",
      "C:\\Users\\kristina\\Anaconda3\\lib\\site-packages\\ipykernel_launcher.py:33: DeprecationWarning: `imsave` is deprecated!\n",
      "`imsave` is deprecated in SciPy 1.0.0, and will be removed in 1.2.0.\n",
      "Use ``imageio.imwrite`` instead.\n",
      "C:\\Users\\kristina\\Anaconda3\\lib\\site-packages\\matplotlib\\pyplot.py:522: RuntimeWarning: More than 20 figures have been opened. Figures created through the pyplot interface (`matplotlib.pyplot.figure`) are retained until explicitly closed and may consume too much memory. (To control this warning, see the rcParam `figure.max_open_warning`).\n",
      "  max_open_warning, RuntimeWarning)\n"
     ]
    }
   ],
   "source": [
    "run_recon_and_crop(3000, 10, im_path, gt_path, save_file_path, start=7698)"
   ]
  },
  {
   "cell_type": "code",
   "execution_count": null,
   "metadata": {},
   "outputs": [],
   "source": [
    "x = reconstruct_and_save(image_file, save_file, 200)"
   ]
  },
  {
   "cell_type": "code",
   "execution_count": null,
   "metadata": {},
   "outputs": [],
   "source": [
    "gt_out = transform_groundtruth(gt_image, M, ds, mtx, dist)\n",
    "plt.imshow(np.flipud(gt_out)/np.max(gt_out))\n",
    "scipy.misc.imsave(save_file_gt, np.flipud(gt_out))"
   ]
  },
  {
   "cell_type": "code",
   "execution_count": null,
   "metadata": {
    "scrolled": true
   },
   "outputs": [],
   "source": [
    "plt.imshow(np.flipud(crop2d(x))/np.max(x))\n",
    "print(type(x[0,0,0]))\n",
    "scipy.misc.imsave(save_file_diffuser, np.flipud(crop2d(x)))"
   ]
  },
  {
   "cell_type": "code",
   "execution_count": null,
   "metadata": {},
   "outputs": [],
   "source": []
  }
 ],
 "metadata": {
  "kernelspec": {
   "display_name": "Python 3",
   "language": "python",
   "name": "python3"
  },
  "language_info": {
   "codemirror_mode": {
    "name": "ipython",
    "version": 3
   },
   "file_extension": ".py",
   "mimetype": "text/x-python",
   "name": "python",
   "nbconvert_exporter": "python",
   "pygments_lexer": "ipython3",
   "version": "3.6.7"
  }
 },
 "nbformat": 4,
 "nbformat_minor": 2
}
